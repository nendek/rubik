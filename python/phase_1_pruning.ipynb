{
 "cells": [
  {
   "cell_type": "code",
   "execution_count": 1,
   "metadata": {},
   "outputs": [],
   "source": [
    "import time\n",
    "from math import floor\n",
    "from rubik_cubes import Rubik, rubik_corner, rubik_edge\n",
    "from rubik_state import rubik_state\n",
    "from rubik_next import get_nexts_1, get_nexts_2\n",
    "from rubik_file import RubikFile\n",
    "from rubik_ida import IDA\n",
    "from itertools import permutations\n",
    "import copy"
   ]
  },
  {
   "cell_type": "code",
   "execution_count": 2,
   "metadata": {},
   "outputs": [],
   "source": [
    "rubik = Rubik()"
   ]
  },
  {
   "cell_type": "code",
   "execution_count": 3,
   "metadata": {},
   "outputs": [],
   "source": [
    "def new_get_nexts_1(state, h):\n",
    "    return [rubik_state(state, i, h) for i in range(1, 19)]"
   ]
  },
  {
   "cell_type": "code",
   "execution_count": 30,
   "metadata": {},
   "outputs": [],
   "source": [
    "def brute_force_co(save, solved):\n",
    "    current = solved\n",
    "    save[current.corners_state] = current.g\n",
    "    queue = [current]\n",
    "    \n",
    "    while len(queue):\n",
    "        current = queue.pop(0)\n",
    "        for elem in get_nexts_1(current, null_h):\n",
    "            if elem.corners_state not in save.keys():\n",
    "                save[elem.corners_state] = elem.g\n",
    "                queue.append(elem)\n",
    "\n",
    "def brute_force_eo(save, solved):\n",
    "    current = solved\n",
    "    save[current.edges_state] = current.g\n",
    "    queue = [current]\n",
    "    \n",
    "    while len(queue):\n",
    "        current = queue.pop(0)\n",
    "        for elem in get_nexts_1(current, null_h):\n",
    "            if elem.edges_state not in save.keys():\n",
    "                save[elem.edges_state] = elem.g\n",
    "                queue.append(elem)\n",
    "\n",
    "def brute_force_slice(save, solved):\n",
    "    current = solved\n",
    "    perm = permutations([5, 6, 7, 8])\n",
    "    queue = [current]\n",
    "    for elem in perm:\n",
    "        new_dep = copy.deepcopy(solved)\n",
    "        for i in range(5, 9):\n",
    "            new_dep.corners[i].position = elem[i - 5]\n",
    "        queue.append(new_dep)\n",
    "        new_dep.slice_state = elem\n",
    "        save[new_dep.slice_state] = 0\n",
    "    save[current.slice_state] = current.g\n",
    "    set1 = set()\n",
    "    set2 = set()\n",
    "    set3 = set()\n",
    "    set4 = set()\n",
    "    while len(queue):\n",
    "        current = queue.pop(0)\n",
    "        for elem in new_get_nexts_1(current, null_h):\n",
    "            if elem.slice_state not in save.keys():\n",
    "                save[elem.slice_state] = elem.g\n",
    "                queue.append(elem)\n",
    "                set1.add(tuple((elem.edges[1].final_position, elem.edges[9].final_position)))\n",
    "                set2.add(tuple((elem.edges[2].final_position, elem.edges[10].final_position)))\n",
    "                set3.add(tuple((elem.edges[3].final_position, elem.edges[11].final_position)))\n",
    "                set4.add(tuple((elem.edges[4].final_position, elem.edges[12].final_position)))\n",
    "            else:\n",
    "                if save[elem.slice_state] > elem.g:\n",
    "                    save[elem.slice_state] = elem.g\n",
    "                if tuple((elem.edges[1].final_position, elem.edges[9].final_position)) not in set1:\n",
    "                    queue.append(elem)\n",
    "                    set1.add(tuple((elem.edges[1].final_position, elem.edges[9].final_position)))\n",
    "                elif tuple((elem.edges[2].final_position, elem.edges[10].final_position)) not in set2:\n",
    "                    queue.append(elem)\n",
    "                    set2.add(tuple((elem.edges[2].final_position, elem.edges[10].final_position)))\n",
    "                elif tuple((elem.edges[3].final_position, elem.edges[11].final_position)) not in set3:\n",
    "                    queue.append(elem)\n",
    "                    set3.add(tuple((elem.edges[3].final_position, elem.edges[11].final_position)))\n",
    "                elif tuple((elem.edges[4].final_position, elem.edges[12].final_position)) not in set4:\n",
    "                    queue.append(elem)\n",
    "                    set4.add(tuple((elem.edges[4].final_position, elem.edges[12].final_position)))\n",
    "\n",
    "def null_h(obj):\n",
    "    return 0"
   ]
  },
  {
   "cell_type": "code",
   "execution_count": 31,
   "metadata": {},
   "outputs": [],
   "source": [
    "solved = rubik_state(rubik, 0, null_h)\n",
    "save_slice = {}\n",
    "brute_force_slice(save_slice, solved)"
   ]
  },
  {
   "cell_type": "code",
   "execution_count": 32,
   "metadata": {},
   "outputs": [
    {
     "name": "stdout",
     "output_type": "stream",
     "text": [
      "nb_moves : 0 nb_occ : 24\n",
      "nb_moves : 1 nb_occ : 8\n",
      "nb_moves : 2 nb_occ : 128\n",
      "nb_moves : 3 nb_occ : 1248\n",
      "nb_moves : 4 nb_occ : 4806\n",
      "nb_moves : 5 nb_occ : 4850\n",
      "nb_moves : 6 nb_occ : 737\n",
      "nb_moves : 7 nb_occ : 70\n",
      "nb_moves : 8 nb_occ : 9\n",
      "nb_moves : 9 nb_occ : 0\n",
      "nb_moves : 10 nb_occ : 0\n",
      "nb_moves : 11 nb_occ : 0\n",
      "11880\n"
     ]
    }
   ],
   "source": [
    "tot = [0, 0, 0, 0, 0, 0, 0, 0, 0, 0, 0, 0]\n",
    "for k, v in save_slice.items():\n",
    "    tot[v] += 1\n",
    "for i in range(0, len(tot)):\n",
    "    print(\"nb_moves :\", i, \"nb_occ :\", tot[i])\n",
    "print(len(save_slice))"
   ]
  },
  {
   "cell_type": "code",
   "execution_count": 21,
   "metadata": {},
   "outputs": [
    {
     "name": "stdout",
     "output_type": "stream",
     "text": [
      "nb_moves : 0 nb_occ : 24\n",
      "nb_moves : 1 nb_occ : 8\n",
      "nb_moves : 2 nb_occ : 128\n",
      "nb_moves : 3 nb_occ : 1248\n",
      "nb_moves : 4 nb_occ : 4806\n",
      "nb_moves : 5 nb_occ : 4850\n",
      "nb_moves : 6 nb_occ : 737\n",
      "nb_moves : 7 nb_occ : 70\n",
      "nb_moves : 8 nb_occ : 9\n",
      "nb_moves : 9 nb_occ : 0\n",
      "nb_moves : 10 nb_occ : 0\n",
      "nb_moves : 11 nb_occ : 0\n"
     ]
    }
   ],
   "source": [
    "# print(sum([i for i in save_slice.values()]) / len(save_slice))\n",
    "# print(len(save_slice))\n",
    "tot = [0, 0, 0, 0, 0, 0, 0, 0, 0, 0, 0, 0]\n",
    "for k, v in save_slice.items():\n",
    "    tot[v] += 1\n",
    "for i in range(0, len(tot)):\n",
    "    print(\"nb_moves :\", i, \"nb_occ :\", tot[i])"
   ]
  },
  {
   "cell_type": "code",
   "execution_count": 6,
   "metadata": {},
   "outputs": [],
   "source": [
    "solved = rubik_state(rubik, 0, null_h)\n",
    "save_co = {}\n",
    "brute_force_co(save_co, solved)"
   ]
  },
  {
   "cell_type": "code",
   "execution_count": 7,
   "metadata": {},
   "outputs": [],
   "source": [
    "solved = rubik_state(rubik, 0, null_h)\n",
    "save_eo = {}\n",
    "brute_force_eo(save_eo, solved)"
   ]
  },
  {
   "cell_type": "code",
   "execution_count": 8,
   "metadata": {},
   "outputs": [
    {
     "name": "stdout",
     "output_type": "stream",
     "text": [
      "4.416329966329966\n",
      "11880\n",
      "4.459076360310928\n",
      "2187\n",
      "4.60888671875\n",
      "2048\n"
     ]
    }
   ],
   "source": [
    "print(sum([i for i in save_slice.values()]) / len(save_slice))\n",
    "print(len(save_slice))\n",
    "print(sum([i for i in save_co.values()]) / len(save_co))\n",
    "print(len(save_co))\n",
    "print(sum([i for i in save_eo.values()]) / len(save_eo))\n",
    "print(len(save_eo))"
   ]
  },
  {
   "cell_type": "code",
   "execution_count": 9,
   "metadata": {},
   "outputs": [
    {
     "name": "stdout",
     "output_type": "stream",
     "text": [
      "Writing...\n",
      "Write done\n",
      "Writing...\n",
      "Write done\n",
      "Writing...\n",
      "Write done\n"
     ]
    }
   ],
   "source": [
    "rubikfile = RubikFile(\"pruning_phase_1.h5\")\n",
    "\n",
    "rubikfile.write(\"corners\", save_co)\n",
    "rubikfile.write(\"edges\", save_eo)\n",
    "rubikfile.write(\"slice\", save_slice)"
   ]
  },
  {
   "cell_type": "code",
   "execution_count": 2,
   "metadata": {},
   "outputs": [],
   "source": [
    "# phase two generator, to be reworked\n",
    "def compress_state(state):\n",
    "    compressed = 0\n",
    "    # first compress corners place\n",
    "    for i in range(1, 9):\n",
    "        compressed <<= 3\n",
    "        compressed |= (state.corners[i].final_position - 1)\n",
    "    # compress corners orientation\n",
    "    for i in range(1, 9):\n",
    "        compressed <<= 2\n",
    "        compressed |= state.corners[i].orientation\n",
    "    # compress edges place\n",
    "    for i in range(1, 13):\n",
    "        compressed <<= 4\n",
    "        compressed |= state.edges[i].final_position\n",
    "    # corners edges orientation\n",
    "    for i in range(1, 13):\n",
    "        compressed <<= 1\n",
    "        compressed |= state.edges[i].orientation\n",
    "    return str(compressed)\n",
    "\n",
    "def gen_pruning(dico, curr_node, depth, h):\n",
    "    if depth < 9:\n",
    "        next_depth = []\n",
    "        for elem in get_nexts_2(curr_node, h):\n",
    "            cp = compress_state(elem)\n",
    "            if cp not in dico.keys():\n",
    "                dico[cp] = depth + 1\n",
    "                next_depth.append(elem)\n",
    "            elif dico[cp] > depth + 1:\n",
    "                dico[cp] = depth + 1\n",
    "        for elem in next_depth:\n",
    "            gen_pruning(dico, elem, depth + 1, h)\n",
    "\n",
    "dico = {}\n",
    "rubik = Rubik()\n",
    "dep = rubik_state(rubik, 0, rubik.heuristic_h2)\n",
    "dico[compress_state(dep)] = 0\n",
    "\n",
    "start = time.time()\n",
    "gen_pruning(dico, dep, 0, rubik.heuristic_h2)\n",
    "print(time.time() - start)\n",
    "print(len(dico))"
   ]
  },
  {
   "cell_type": "code",
   "execution_count": 32,
   "metadata": {},
   "outputs": [
    {
     "ename": "TypeError",
     "evalue": "tuple expected at most 1 arguments, got 2",
     "output_type": "error",
     "traceback": [
      "\u001b[0;31m---------------------------------------------------------------------------\u001b[0m",
      "\u001b[0;31mTypeError\u001b[0m                                 Traceback (most recent call last)",
      "\u001b[0;32m<ipython-input-32-0da0484b70e1>\u001b[0m in \u001b[0;36m<module>\u001b[0;34m\u001b[0m\n\u001b[0;32m----> 1\u001b[0;31m \u001b[0mtuple\u001b[0m\u001b[0;34m(\u001b[0m\u001b[0;36m5\u001b[0m\u001b[0;34m,\u001b[0m \u001b[0;36m4\u001b[0m\u001b[0;34m)\u001b[0m\u001b[0;34m\u001b[0m\u001b[0;34m\u001b[0m\u001b[0m\n\u001b[0m",
      "\u001b[0;31mTypeError\u001b[0m: tuple expected at most 1 arguments, got 2"
     ]
    }
   ],
   "source": [
    "tuple(5, 4)"
   ]
  },
  {
   "cell_type": "code",
   "execution_count": null,
   "metadata": {},
   "outputs": [],
   "source": []
  }
 ],
 "metadata": {
  "kernelspec": {
   "display_name": "Python 3",
   "language": "python",
   "name": "python3"
  },
  "language_info": {
   "codemirror_mode": {
    "name": "ipython",
    "version": 3
   },
   "file_extension": ".py",
   "mimetype": "text/x-python",
   "name": "python",
   "nbconvert_exporter": "python",
   "pygments_lexer": "ipython3",
   "version": "3.7.1"
  }
 },
 "nbformat": 4,
 "nbformat_minor": 2
}
